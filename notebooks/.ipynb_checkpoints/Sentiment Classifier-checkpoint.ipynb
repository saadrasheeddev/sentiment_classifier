{
 "cells": [
  {
   "cell_type": "code",
   "execution_count": 33,
   "id": "1b2aea78-58c8-406c-9be1-38e6c74202aa",
   "metadata": {},
   "outputs": [],
   "source": [
    "import pandas as pd\n",
    "from transformers import AutoTokenizer, AutoModelForSeq2SeqLM\n",
    "from peft import LoraConfig, get_peft_model, TaskType\n",
    "from transformers import Seq2SeqTrainer, Seq2SeqTrainingArguments, DataCollatorForSeq2Seq"
   ]
  },
  {
   "cell_type": "code",
   "execution_count": 36,
   "id": "da1a8e0d-4c53-4f58-b005-9bd1eb49d8f9",
   "metadata": {},
   "outputs": [],
   "source": [
    "from datasets import Dataset"
   ]
  },
  {
   "cell_type": "code",
   "execution_count": 27,
   "id": "9ad0a90c-b51a-4fe4-a3a9-5c5b11a5359c",
   "metadata": {},
   "outputs": [],
   "source": [
    "# Creating a list of lists with reviews and associated sentiments\n",
    "dataset = [\n",
    "    [\"The SR Watch exceeded my expectations. It's stylish and functional.\", \"Positive\"],\n",
    "    [\"I'm very disappointed with the SR Watch. It stopped working after just a few days.\", \"Negative\"],\n",
    "    [\"The SR Watch is a decent product for its price. It's nothing extraordinary, but it gets the job done.\", \"Neutral\"],\n",
    "    [\"I absolutely love my SR Watch! It's sleek, comfortable, and works flawlessly.\", \"Positive\"],\n",
    "    [\"The SR Watch has a lot of features, but it's quite complicated to use. Not recommended for beginners.\", \"Negative\"],\n",
    "    [\"I'm satisfied with my SR Watch purchase. It looks elegant and performs well.\", \"Positive\"],\n",
    "    [\"The SR Watch is okay, but it could use some improvements in terms of durability.\", \"Neutral\"],\n",
    "    [\"This is the best smartwatch I've ever owned! The SR Watch has exceeded all my expectations.\", \"Positive\"],\n",
    "    [\"The SR Watch is a good value for the money. It's durable and has a long battery life.\", \"Positive\"],\n",
    "    [\"I'm on the fence about the SR Watch. It has some good features, but the design is not my favorite.\", \"Mixed\"],\n",
    "    [\"I regret buying the SR Watch. It's not user-friendly and the battery life is disappointing.\", \"Negative\"],\n",
    "    [\"The SR Watch looks stylish, but it's not very durable. Mine broke after just a few weeks of use.\", \"Negative\"],\n",
    "    [\"I'm quite impressed with the SR Watch. It's accurate, comfortable to wear, and has a sleek design.\", \"Positive\"],\n",
    "    [\"The SR Watch is average. It doesn't stand out from other smartwatches on the market.\", \"Neutral\"],\n",
    "    [\"The SR Watch is a great companion for my workouts. It tracks my activity accurately and motivates me to stay active.\", \"Positive\"],\n",
    "    [\"I'm not sure what to think about the SR Watch. It has some good features, but it's not perfect.\", \"Mixed\"],\n",
    "    [\"I had high hopes for the SR Watch, but it failed to meet my expectations. The performance is subpar.\", \"Negative\"],\n",
    "    [\"The SR Watch is perfect for everyday use. It's lightweight, comfortable, and has a long-lasting battery.\", \"Positive\"],\n",
    "    [\"The SR Watch is overpriced for what it offers. There are better options available in the market.\", \"Negative\"],\n",
    "    [\"I'm still undecided about the SR Watch. It has its pros and cons.\", \"Mixed\"],\n",
    "    [\"I've had a positive experience with the SR Watch so far. It's reliable and easy to use.\", \"Positive\"],\n",
    "    [\"The SR Watch is a solid choice for fitness enthusiasts. It accurately tracks my workouts and helps me stay on top of my health goals.\", \"Positive\"],\n",
    "    [\"I bought the SR Watch for its stylish design, but I'm disappointed with its performance. It frequently lags and freezes.\", \"Negative\"],\n",
    "    [\"I've been using the SR Watch for a month now, and it's been a game-changer for me. It's intuitive to use and has improved my productivity.\", \"Positive\"],\n",
    "    [\"The SR Watch is a bit pricey, but it's worth every penny. The build quality is exceptional, and it has all the features I need.\", \"Positive\"],\n",
    "    [\"I'm underwhelmed by the SR Watch. It feels cheaply made, and the battery life is shorter than expected.\", \"Negative\"],\n",
    "    [\"The SR Watch is a versatile device. It's equally suitable for casual everyday wear and intense workouts.\", \"Positive\"],\n",
    "    [\"I had high hopes for the SR Watch, but it failed to live up to expectations. The heart rate monitor is inaccurate, and the software is buggy.\", \"Negative\"],\n",
    "    [\"I'm pleasantly surprised by the SR Watch. It's comfortable to wear all day, and the battery life is impressive.\", \"Positive\"],\n",
    "    [\"The SR Watch is a mixed bag. While it has some innovative features, it falls short in terms of reliability and durability.\", \"Mixed\"],\n",
    "    [\"I've tried several smartwatches, but the SR Watch stands out for its elegant design and user-friendly interface.\", \"Positive\"],\n",
    "    [\"The SR Watch is not for everyone. It's geared towards fitness enthusiasts and may not appeal to those looking for a traditional timepiece.\", \"Neutral\"],\n",
    "    [\"I'm on the fence about the SR Watch. It has some great features, but the software needs improvement.\", \"Mixed\"],\n",
    "    [\"The SR Watch is a disappointment. It feels cheaply made, and the screen scratches easily.\", \"Negative\"],\n",
    "    [\"I'm blown away by the SR Watch! It's sleek, stylish, and packed with features. Definitely worth the investment.\", \"Positive\"],\n",
    "    [\"The SR Watch is a decent entry-level smartwatch. It has basic functionality and a budget-friendly price tag.\", \"Neutral\"],\n",
    "    [\"I'm skeptical about the SR Watch. The reviews are mixed, and I'm not sure if it's worth the hype.\", \"Mixed\"],\n",
    "    [\"I've had a positive experience with the SR Watch customer service team. They were prompt in addressing my concerns.\", \"Positive\"],\n",
    "    [\"The SR Watch is a letdown. The step counter is inaccurate, and the display is prone to glare.\", \"Negative\"],\n",
    "    [\"I'm impressed by the SR Watch's battery life. It lasts for days on a single charge, even with continuous use.\", \"Positive\"],\n",
    "    [\"The SR Watch looks sleek, but it lacks some basic features like GPS. Disappointed with the limited functionality.\", \"Negative\"],\n",
    "    [\"I'm thoroughly impressed by the SR Watch's performance. It's reliable, accurate, and comfortable to wear.\", \"Positive\"],\n",
    "    [\"The SR Watch is a versatile companion for outdoor activities. Its rugged design and water resistance make it perfect for adventure seekers.\", \"Positive\"],\n",
    "    [\"I had high hopes for the SR Watch, but it fell short of expectations. The battery life is disappointing, and the software is buggy.\", \"Negative\"],\n",
    "    [\"The SR Watch is a stylish accessory, but it lacks some advanced features found in other smartwatches.\", \"Neutral\"],\n",
    "    [\"I'm satisfied with the SR Watch's performance. It's intuitive to use, and the battery lasts throughout the day.\", \"Positive\"],\n",
    "    [\"The SR Watch is a good budget option for those looking for basic smartwatch features. Don't expect anything fancy.\", \"Neutral\"],\n",
    "    [\"I'm on the fence about the SR Watch. It has some great features, but the build quality feels a bit flimsy.\", \"Mixed\"],\n",
    "    [\"I'm disappointed with the SR Watch's accuracy. It frequently miscounts steps and fails to track workouts properly.\", \"Negative\"],\n",
    "    [\"The SR Watch is a great investment for anyone looking to improve their fitness routine. It provides valuable insights and motivation.\", \"Positive\"],\n",
    "    [\"The SR Watch looks sleek, but it's not very comfortable to wear for long periods. The strap irritates my skin.\", \"Negative\"],\n",
    "    [\"I'm amazed by the SR Watch's battery life. It lasts for days on a single charge, even with continuous use.\", \"Positive\"],\n",
    "    [\"The SR Watch is a disappointment. It feels bulky on the wrist, and the screen is prone to scratches.\", \"Negative\"],\n",
    "    [\"I'm impressed by the SR Watch's durability. It withstands daily wear and tear without any issues.\", \"Positive\"],\n",
    "    [\"The SR Watch is a great value for the price. It offers all the essential features without breaking the bank.\", \"Positive\"],\n",
    "    [\"I had high expectations for the SR Watch, but it failed to deliver. The interface is clunky, and the notifications are unreliable.\", \"Negative\"],\n",
    "    [\"The SR Watch is perfect for fitness enthusiasts. It accurately tracks workouts and provides valuable insights.\", \"Positive\"],\n",
    "    [\"I'm underwhelmed by the SR Watch. It's lacking in features compared to other smartwatches in the same price range.\", \"Negative\"],\n",
    "    [\"The SR Watch is a game-changer for my fitness routine. It keeps me motivated and on track with my goals.\", \"Positive\"],\n",
    "    [\"I'm disappointed with the SR Watch's build quality. It feels cheap and plasticky.\", \"Negative\"],\n",
    "    [\"I'm pleasantly surprised by the SR Watch's performance. It's reliable and easy to use, even for beginners.\", \"Positive\"],\n",
    "    [\"The SR Watch is a great addition to my daily routine. It's comfortable to wear and has a sleek design.\", \"Positive\"],\n",
    "    [\"I'm disappointed with the SR Watch's battery life. It drains quickly, especially when using GPS.\", \"Negative\"],\n",
    "    [\"The SR Watch is perfect for tracking my runs. It provides accurate data and helps me improve my performance.\", \"Positive\"],\n",
    "    [\"I'm satisfied with the SR Watch's performance. It's reliable and easy to navigate.\", \"Positive\"],\n",
    "    [\"The SR Watch is a stylish accessory, but it lacks some advanced features found in other smartwatches.\", \"Neutral\"],\n",
    "    [\"I'm on the fence about the SR Watch. It has some great features, but the build quality feels a bit flimsy.\", \"Mixed\"],\n",
    "    [\"The SR Watch exceeded my expectations. It's durable, functional, and looks great on my wrist.\", \"Positive\"],\n",
    "    [\"I regret buying the SR Watch. It's not as user-friendly as advertised, and the customer service was unhelpful.\", \"Negative\"],\n",
    "    [\"The SR Watch is a disappointment. It frequently disconnects from my phone, and the app crashes often.\", \"Negative\"],\n",
    "    [\"I'm impressed by the SR Watch's accuracy. It tracks my workouts and sleep patterns with precision.\", \"Positive\"],\n",
    "    [\"The SR Watch is a good value for the price. It offers all the essential features without breaking the bank.\", \"Positive\"],\n",
    "    [\"I'm still undecided about the SR Watch. It has some promising features, but I'm not sure if it's worth the investment.\", \"Mixed\"],\n",
    "    [\"The SR Watch is a letdown. The heart rate monitor is unreliable, and the notifications are delayed.\", \"Negative\"],\n",
    "    [\"I'm blown away by the SR Watch's battery life. It lasts for days on a single charge, even with heavy usage.\", \"Positive\"],\n",
    "    [\"The SR Watch is a versatile companion for outdoor activities. It's rugged, waterproof, and packed with useful features.\", \"Positive\"],\n",
    "    [\"I'm underwhelmed by the SR Watch. It lacks customization options, and the interface feels outdated.\", \"Negative\"],\n",
    "    [\"The SR Watch is perfect for fitness enthusiasts. It accurately tracks workouts and provides real-time feedback.\", \"Positive\"],\n",
    "    [\"I'm disappointed with the SR Watch's build quality. The strap broke after just a few weeks of use.\", \"Negative\"],\n",
    "    [\"The SR Watch is a game-changer for my daily routine. It keeps me organized and motivated throughout the day.\", \"Positive\"],\n",
    "    [\"I had high hopes for the SR Watch, but it failed to impress. The touchscreen is unresponsive, and the software is buggy.\", \"Negative\"],\n",
    "    [\"The SR Watch is a great addition to my daily routine. It's comfortable to wear and has a sleek design.\", \"Positive\"],\n",
    "    [\"I'm disappointed with the SR Watch's battery life. It drains quickly, especially when using GPS.\", \"Negative\"],\n",
    "    [\"The SR Watch is perfect for tracking my runs. It provides accurate data and helps me improve my performance.\", \"Positive\"],\n",
    "    [\"I'm satisfied with the SR Watch's performance. It's reliable and easy to navigate.\", \"Positive\"],\n",
    "    [\"The SR Watch is a stylish accessory, but it lacks some advanced features found in other smartwatches.\", \"Neutral\"],\n",
    "    [\"I'm on the fence about the SR Watch. It has some great features, but the build quality feels a bit flimsy.\", \"Mixed\"],\n",
    "    [\"The SR Watch exceeded my expectations. It's durable, functional, and looks great on my wrist.\", \"Positive\"],\n",
    "    [\"I regret buying the SR Watch. It's not as user-friendly as advertised, and the customer service was unhelpful.\", \"Negative\"],\n",
    "    [\"The SR Watch is a disappointment. It frequently disconnects from my phone, and the app crashes often.\", \"Negative\"],\n",
    "    [\"I'm impressed by the SR Watch's accuracy. It tracks my workouts and sleep patterns with precision.\", \"Positive\"],\n",
    "    [\"The SR Watch is a good value for the price. It offers all the essential features without breaking the bank.\", \"Positive\"],\n",
    "    [\"I'm still undecided about the SR Watch. It has some promising features, but I'm not sure if it's worth the investment.\", \"Mixed\"],\n",
    "    [\"The SR Watch is a letdown. The heart rate monitor is unreliable, and the notifications are delayed.\", \"Negative\"],\n",
    "    [\"I'm blown away by the SR Watch's battery life. It lasts for days on a single charge, even with heavy usage.\", \"Positive\"],\n",
    "    [\"The SR Watch is a versatile companion for outdoor activities. It's rugged, waterproof, and packed with useful features.\", \"Positive\"],\n",
    "    [\"I'm underwhelmed by the SR Watch. It lacks customization options, and the interface feels outdated.\", \"Negative\"],\n",
    "    [\"The SR Watch is perfect for fitness enthusiasts. It accurately tracks workouts and provides real-time feedback.\", \"Positive\"],\n",
    "    [\"I'm disappointed with the SR Watch's build quality. The strap broke after just a few weeks of use.\", \"Negative\"],\n",
    "    [\"The SR Watch is a game-changer for my daily routine. It keeps me organized and motivated throughout the day.\", \"Positive\"],\n",
    "    [\"I had high hopes for the SR Watch, but it failed to impress. The touchscreen is unresponsive, and the software is buggy.\", \"Negative\"],\n",
    "    [\"The SR Watch exceeded my expectations. It's sleek, lightweight, and has a long-lasting battery.\", \"Positive\"],\n",
    "    [\"I'm frustrated with the SR Watch's performance. It frequently loses connection with my phone, making it unreliable.\", \"Negative\"],\n",
    "    [\"The SR Watch is perfect for everyday wear. It's comfortable, stylish, and packed with useful features.\", \"Positive\"],\n",
    "    [\"I'm disappointed with the SR Watch's durability. The screen scratches easily, and the band feels flimsy.\", \"Negative\"],\n",
    "    [\"The SR Watch is a versatile device. It seamlessly integrates with my smartphone and helps me stay organized.\", \"Positive\"],\n",
    "    [\"I'm underwhelmed by the SR Watch's battery life. It doesn't last as long as advertised, especially with GPS enabled.\", \"Negative\"],\n",
    "    [\"The SR Watch is a reliable companion for my workouts. It accurately tracks my progress and keeps me motivated.\", \"Positive\"],\n",
    "    [\"I'm disappointed with the SR Watch's performance. It frequently freezes, and the touchscreen is unresponsive.\", \"Negative\"],\n",
    "    [\"The SR Watch is a great investment. It's durable, stylish, and packed with features.\", \"Positive\"],\n",
    "    [\"I regret buying the SR Watch. It's not as user-friendly as advertised, and the battery life is disappointing.\", \"Negative\"]\n",
    "]"
   ]
  },
  {
   "cell_type": "code",
   "execution_count": 28,
   "id": "86dd6d1e-eeee-4a3a-8dd2-7f43da5427e5",
   "metadata": {},
   "outputs": [],
   "source": [
    "df = pd.DataFrame(dataset, columns=[\"Human\", \"Assistant\"])"
   ]
  },
  {
   "cell_type": "code",
   "execution_count": 29,
   "id": "14978a50-0fad-4bc6-b2b1-e70d40d11664",
   "metadata": {},
   "outputs": [
    {
     "data": {
      "text/html": [
       "<div>\n",
       "<style scoped>\n",
       "    .dataframe tbody tr th:only-of-type {\n",
       "        vertical-align: middle;\n",
       "    }\n",
       "\n",
       "    .dataframe tbody tr th {\n",
       "        vertical-align: top;\n",
       "    }\n",
       "\n",
       "    .dataframe thead th {\n",
       "        text-align: right;\n",
       "    }\n",
       "</style>\n",
       "<table border=\"1\" class=\"dataframe\">\n",
       "  <thead>\n",
       "    <tr style=\"text-align: right;\">\n",
       "      <th></th>\n",
       "      <th>Human</th>\n",
       "      <th>Assistant</th>\n",
       "    </tr>\n",
       "  </thead>\n",
       "  <tbody>\n",
       "    <tr>\n",
       "      <th>0</th>\n",
       "      <td>The SR Watch exceeded my expectations. It's st...</td>\n",
       "      <td>Positive</td>\n",
       "    </tr>\n",
       "    <tr>\n",
       "      <th>1</th>\n",
       "      <td>I'm very disappointed with the SR Watch. It st...</td>\n",
       "      <td>Negative</td>\n",
       "    </tr>\n",
       "    <tr>\n",
       "      <th>2</th>\n",
       "      <td>The SR Watch is a decent product for its price...</td>\n",
       "      <td>Neutral</td>\n",
       "    </tr>\n",
       "    <tr>\n",
       "      <th>3</th>\n",
       "      <td>I absolutely love my SR Watch! It's sleek, com...</td>\n",
       "      <td>Positive</td>\n",
       "    </tr>\n",
       "    <tr>\n",
       "      <th>4</th>\n",
       "      <td>The SR Watch has a lot of features, but it's q...</td>\n",
       "      <td>Negative</td>\n",
       "    </tr>\n",
       "  </tbody>\n",
       "</table>\n",
       "</div>"
      ],
      "text/plain": [
       "                                               Human Assistant\n",
       "0  The SR Watch exceeded my expectations. It's st...  Positive\n",
       "1  I'm very disappointed with the SR Watch. It st...  Negative\n",
       "2  The SR Watch is a decent product for its price...   Neutral\n",
       "3  I absolutely love my SR Watch! It's sleek, com...  Positive\n",
       "4  The SR Watch has a lot of features, but it's q...  Negative"
      ]
     },
     "execution_count": 29,
     "metadata": {},
     "output_type": "execute_result"
    }
   ],
   "source": [
    "df.head()"
   ]
  },
  {
   "cell_type": "code",
   "execution_count": 30,
   "id": "43113bb9-83e4-4879-82e2-9b077c787c25",
   "metadata": {},
   "outputs": [],
   "source": [
    "df[\"Human\"] = df[\"Human\"].apply(lambda x: \"Human: \" + x + \" Assistant: \")"
   ]
  },
  {
   "cell_type": "code",
   "execution_count": 32,
   "id": "3d58b50a-6768-48a3-85d2-41d4a6690448",
   "metadata": {},
   "outputs": [
    {
     "data": {
      "text/plain": [
       "\"Human: The SR Watch exceeded my expectations. It's stylish and functional. Assistant: \""
      ]
     },
     "execution_count": 32,
     "metadata": {},
     "output_type": "execute_result"
    }
   ],
   "source": [
    "df[\"Human\"][0]"
   ]
  },
  {
   "cell_type": "code",
   "execution_count": 34,
   "id": "f3352b30-36b4-47ef-b666-1d8a748961e5",
   "metadata": {},
   "outputs": [],
   "source": [
    "model_id = \"google/flan-t5-large\"\n",
    "tokenizer = AutoTokenizer.from_pretrained(model_id)\n",
    "model = AutoModelForSeq2SeqLM.from_pretrained(model_id)"
   ]
  },
  {
   "cell_type": "code",
   "execution_count": 35,
   "id": "89113b15-9a32-4261-9cc2-84d6f9566a2a",
   "metadata": {},
   "outputs": [],
   "source": [
    "def preprocess_function(sample, padding=\"max_length\"):\n",
    "    model_inputs = tokenizer(sample[\"Human\"], max_length=256, padding=padding, truncation=True)\n",
    "    labels = tokenizer(sample[\"Assistant\"], max_length=256, padding=padding, truncation=True)\n",
    "    if padding == \"max_length\":\n",
    "        labels[\"input_ids\"] = [\n",
    "            [(l if l != tokenizer.pad_token_id else -100) for l in label] for label in labels[\"input_ids\"]\n",
    "        ]\n",
    "    model_inputs[\"labels\"] = labels[\"input_ids\"]\n",
    "    return model_inputs"
   ]
  },
  {
   "cell_type": "code",
   "execution_count": 37,
   "id": "72039cf8-9735-4bc4-b2f3-92d0305ed74b",
   "metadata": {},
   "outputs": [],
   "source": [
    "train_data = Dataset.from_pandas(df)"
   ]
  },
  {
   "cell_type": "code",
   "execution_count": 38,
   "id": "4bd9318a-16df-4fcf-8fe6-70f20576977d",
   "metadata": {},
   "outputs": [
    {
     "data": {
      "text/plain": [
       "Dataset({\n",
       "    features: ['Human', 'Assistant'],\n",
       "    num_rows: 111\n",
       "})"
      ]
     },
     "execution_count": 38,
     "metadata": {},
     "output_type": "execute_result"
    }
   ],
   "source": [
    "train_data"
   ]
  },
  {
   "cell_type": "code",
   "execution_count": 39,
   "id": "2c6398ea-b70d-44b4-8938-5f78c28da8b6",
   "metadata": {},
   "outputs": [
    {
     "data": {
      "application/vnd.jupyter.widget-view+json": {
       "model_id": "",
       "version_major": 2,
       "version_minor": 0
      },
      "text/plain": [
       "Map:   0%|          | 0/111 [00:00<?, ? examples/s]"
      ]
     },
     "metadata": {},
     "output_type": "display_data"
    }
   ],
   "source": [
    "train_tokenized_dataset = train_data.map(preprocess_function, batched=True, remove_columns=train_data.column_names)"
   ]
  },
  {
   "cell_type": "code",
   "execution_count": 42,
   "id": "2ac591fe-1edd-4316-ba0a-4f5edc54fe07",
   "metadata": {},
   "outputs": [
    {
     "data": {
      "text/plain": [
       "Dataset({\n",
       "    features: ['input_ids', 'attention_mask', 'labels'],\n",
       "    num_rows: 111\n",
       "})"
      ]
     },
     "execution_count": 42,
     "metadata": {},
     "output_type": "execute_result"
    }
   ],
   "source": [
    "train_tokenized_dataset"
   ]
  },
  {
   "cell_type": "code",
   "execution_count": 43,
   "id": "69a27af3-1d02-4004-a725-df3281074b7c",
   "metadata": {},
   "outputs": [],
   "source": [
    "lora_config = LoraConfig(\n",
    " r=16,\n",
    " lora_alpha=32,\n",
    " target_modules=[\"q\", \"v\"],\n",
    " lora_dropout=0.1,\n",
    " bias=\"none\",\n",
    " task_type=TaskType.SEQ_2_SEQ_LM\n",
    ")"
   ]
  },
  {
   "cell_type": "code",
   "execution_count": 44,
   "id": "721d6ab0-c416-4607-98e3-c268a6202196",
   "metadata": {},
   "outputs": [
    {
     "name": "stdout",
     "output_type": "stream",
     "text": [
      "trainable params: 4,718,592 || all params: 787,868,672 || trainable%: 0.5989059049678777\n"
     ]
    }
   ],
   "source": [
    "model = get_peft_model(model, lora_config)\n",
    "model.print_trainable_parameters()"
   ]
  },
  {
   "cell_type": "code",
   "execution_count": 45,
   "id": "375d02fd-db19-42a0-93bf-d52cf921cf79",
   "metadata": {},
   "outputs": [],
   "source": [
    "label_pad_token_id = -100\n",
    "data_collator = DataCollatorForSeq2Seq(\n",
    "    tokenizer,\n",
    "    model=model,\n",
    "    label_pad_token_id=label_pad_token_id,\n",
    "    pad_to_multiple_of=8\n",
    ")"
   ]
  },
  {
   "cell_type": "code",
   "execution_count": null,
   "id": "fd927a45-04d9-4332-abca-463dbfe30dd1",
   "metadata": {},
   "outputs": [],
   "source": [
    "from huggingface_hub import notebook_login\n",
    "notebook_login()"
   ]
  },
  {
   "cell_type": "code",
   "execution_count": null,
   "id": "da814fa1-abbf-409b-a9ba-e43ccf87b663",
   "metadata": {},
   "outputs": [],
   "source": [
    "output_dir=\"lora-flan-t5-large-chat\"\n",
    "training_args = Seq2SeqTrainingArguments(\n",
    "    output_dir=output_dir,\n",
    "    per_device_train_batch_size=4,\n",
    "    learning_rate=1e-3,\n",
    "    num_train_epochs=1,\n",
    "    logging_dir=f\"{output_dir}/logs\",\n",
    "    logging_strategy=\"epoch\",\n",
    "    save_strategy=\"epoch\",\n",
    "    report_to=\"tensorboard\",\n",
    "    push_to_hub = True\n",
    ")\n",
    "\n",
    "trainer = Seq2SeqTrainer(\n",
    "    model=model,\n",
    "    args=training_args,\n",
    "    data_collator=data_collator,\n",
    "    train_dataset=train_tokenized_dataset,\n",
    ")\n",
    "model.config.use_cache = False\n",
    "\n",
    "trainer.train()\n",
    "peft_save_model_id=\"lora-flan-t5-large-chat\"\n",
    "trainer.model.save_pretrained(peft_save_model_id, push_to_hub=True)\n",
    "tokenizer.save_pretrained(peft_save_model_id, push_to_hub=True)\n",
    "trainer.model.base_model.save_pretrained(peft_save_model_id, push_to_hub=True)"
   ]
  },
  {
   "cell_type": "code",
   "execution_count": null,
   "id": "a9a33672-551c-4e3b-8a00-c8d726e5ebb2",
   "metadata": {},
   "outputs": [],
   "source": [
    "import torch\n",
    "from peft import PeftModel, PeftConfig\n",
    "from transformers import AutoModelForSeq2SeqLM, AutoTokenizer\n",
    "\n",
    "# Load peft config for pre-trained checkpoint etc.\n",
    "peft_model_id = \"lora-flan-t5-large-chat\"\n",
    "config = PeftConfig.from_pretrained(peft_model_id)\n",
    "\n",
    "model = AutoModelForSeq2SeqLM.from_pretrained(config.base_model_name_or_path)\n",
    "tokenizer = AutoTokenizer.from_pretrained(config.base_model_name_or_path)\n",
    "\n",
    "model = PeftModel.from_pretrained(model, peft_model_id, device_map={\"\":0}).cuda()\n",
    "model.eval()\n",
    "\n",
    "sample = \"Human: \\nExplain me about the working of Artificial Intelligence. \\nAssistant: \"\n",
    "input_ids = tokenizer(sample, return_tensors=\"pt\", truncation=True, max_length=256).input_ids.cuda()\n",
    "outputs = model.generate(input_ids=input_ids, do_sample=True, top_p=0.9, max_length=256)\n",
    "print(f\"{sample}\")\n",
    "\n",
    "print(tokenizer.batch_decode(outputs.detach().cpu().numpy(), skip_special_tokens=True)[0])\n"
   ]
  }
 ],
 "metadata": {
  "kernelspec": {
   "display_name": "Python 3 (ipykernel)",
   "language": "python",
   "name": "python3"
  },
  "language_info": {
   "codemirror_mode": {
    "name": "ipython",
    "version": 3
   },
   "file_extension": ".py",
   "mimetype": "text/x-python",
   "name": "python",
   "nbconvert_exporter": "python",
   "pygments_lexer": "ipython3",
   "version": "3.11.4"
  }
 },
 "nbformat": 4,
 "nbformat_minor": 5
}
