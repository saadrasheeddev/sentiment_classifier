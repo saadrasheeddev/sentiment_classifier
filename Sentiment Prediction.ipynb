{
 "cells": [
  {
   "cell_type": "code",
   "execution_count": 1,
   "id": "9f5f4d37-04d1-4e8a-9b4a-9a5c9795c086",
   "metadata": {},
   "outputs": [],
   "source": [
    "from peft import PeftModel, PeftConfig\n",
    "from transformers import AutoModelForSeq2SeqLM, AutoTokenizer"
   ]
  },
  {
   "cell_type": "code",
   "execution_count": 2,
   "id": "5def37a6-8789-4f83-8d7e-ee066b123bab",
   "metadata": {},
   "outputs": [],
   "source": [
    "def load_model_tokenizer():\n",
    "    peft_model_id = \"lora-flan-t5-large-sentiment\"\n",
    "    config = PeftConfig.from_pretrained(peft_model_id)\n",
    "\n",
    "    model = AutoModelForSeq2SeqLM.from_pretrained(config.base_model_name_or_path)\n",
    "    tokenizer = AutoTokenizer.from_pretrained(config.base_model_name_or_path)\n",
    "\n",
    "    model = PeftModel.from_pretrained(model, peft_model_id).to(\"cpu\")\n",
    "    model.eval()\n",
    "    return model, tokenizer"
   ]
  },
  {
   "cell_type": "code",
   "execution_count": 3,
   "id": "36217df5-3831-434b-87c0-abcff5f6f9cd",
   "metadata": {},
   "outputs": [],
   "source": [
    "model, tokenizer = load_model_tokenizer()"
   ]
  },
  {
   "cell_type": "code",
   "execution_count": 4,
   "id": "4a2d0405-7eef-4018-98b7-56adc3326520",
   "metadata": {},
   "outputs": [],
   "source": [
    "def inference(model, tokenizer, input_sent):\n",
    "    input_ids = tokenizer(input_sent, return_tensors=\"pt\", truncation=True, max_length=256).input_ids.to(\"cpu\")\n",
    "    outputs = model.generate(input_ids=input_ids, top_p=0.9, max_length=256)\n",
    "    return tokenizer.batch_decode(outputs.detach().cpu().numpy(), skip_special_tokens=True)[0]"
   ]
  },
  {
   "cell_type": "code",
   "execution_count": 42,
   "id": "92b47da0-b1e5-439a-b67e-e9bf43765604",
   "metadata": {},
   "outputs": [],
   "source": [
    "prompt = \"\"\"\n",
    "        Human: I absolutely love my SR Watch! The design is sleek, the battery life is impressive, and it syncs seamlessly with my smartphone. It has truly enhanced my daily routine.\n",
    "        Assistant: Positive\n",
    "\n",
    "        Human: My experience with the SR Watch has been disappointing. The battery drains quickly, and the interface is clunky. I expected better performance considering the price.\n",
    "        Assistant: Negative\n",
    "\n",
    "        Human: The SR Watch has some good features, but there are also some drawbacks. The design is modern, but the battery life could be better. Overall, it's an okay product.\n",
    "        Assistant: Neutral\n",
    "    \"\"\""
   ]
  },
  {
   "cell_type": "code",
   "execution_count": 43,
   "id": "50659f0d-cb1e-445d-a657-0a5063df5931",
   "metadata": {},
   "outputs": [
    {
     "name": "stdin",
     "output_type": "stream",
     "text": [
      "Enter your review:  The SR Watch has some good features, but there are also some drawbacks. The design is modern, but the battery life could be better. Overall, it's an okay product.\n"
     ]
    }
   ],
   "source": [
    "input_review = input(\"Enter your review: \")"
   ]
  },
  {
   "cell_type": "code",
   "execution_count": 44,
   "id": "f1b37451-f54e-4099-869b-71dce660e457",
   "metadata": {},
   "outputs": [],
   "source": [
    "input_review = prompt + \"Human: \" + input_review + \".\\n Assistant:\""
   ]
  },
  {
   "cell_type": "code",
   "execution_count": 45,
   "id": "1d2aab67-932f-44cc-ad92-2a7e429ba347",
   "metadata": {},
   "outputs": [
    {
     "data": {
      "text/plain": [
       "\"\\n        Human: I absolutely love my SR Watch! The design is sleek, the battery life is impressive, and it syncs seamlessly with my smartphone. It has truly enhanced my daily routine.\\n        Assistant: Positive\\n\\n        Human: My experience with the SR Watch has been disappointing. The battery drains quickly, and the interface is clunky. I expected better performance considering the price.\\n        Assistant: Negative\\n\\n        Human: The SR Watch has some good features, but there are also some drawbacks. The design is modern, but the battery life could be better. Overall, it's an okay product.\\n        Assistant: Neutral\\n    Human: The SR Watch has some good features, but there are also some drawbacks. The design is modern, but the battery life could be better. Overall, it's an okay product..\\n Assistant:\""
      ]
     },
     "execution_count": 45,
     "metadata": {},
     "output_type": "execute_result"
    }
   ],
   "source": [
    "input_review"
   ]
  },
  {
   "cell_type": "code",
   "execution_count": 46,
   "id": "c7d813e4-6a59-47d7-8fec-0620a9f5ad35",
   "metadata": {},
   "outputs": [
    {
     "data": {
      "text/plain": [
       "'Positive'"
      ]
     },
     "execution_count": 46,
     "metadata": {},
     "output_type": "execute_result"
    }
   ],
   "source": [
    "inference(model, tokenizer, input_review)"
   ]
  }
 ],
 "metadata": {
  "kernelspec": {
   "display_name": "Python 3 (ipykernel)",
   "language": "python",
   "name": "python3"
  },
  "language_info": {
   "codemirror_mode": {
    "name": "ipython",
    "version": 3
   },
   "file_extension": ".py",
   "mimetype": "text/x-python",
   "name": "python",
   "nbconvert_exporter": "python",
   "pygments_lexer": "ipython3",
   "version": "3.11.4"
  }
 },
 "nbformat": 4,
 "nbformat_minor": 5
}
